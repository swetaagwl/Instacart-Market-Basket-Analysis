{
 "cells": [
  {
   "cell_type": "code",
   "execution_count": 1,
   "metadata": {},
   "outputs": [],
   "source": [
    "# Datasets\n",
    "\n",
    "#https://s3.amazonaws.com/hackerday.datascience/87/aisles.csv\n",
    "#https://s3.amazonaws.com/hackerday.datascience/87/departments.csv\n",
    "#https://s3.amazonaws.com/kackerday.datascience/87/sample_submission.csv\n",
    "#https://s3.amazonaws.com/hackerday.datascience/87/order_products_prior.csv\n",
    "#https://s3.amazonaws.com/hackerday.datascience/87/order_products_train.csv\n",
    "#https://s3.amazonaws.com/hackerday.datascience/87/orders.csv\n",
    "#https://s3.amazonaws.com/kackerday.datascience/87/products.csv\n"
   ]
  },
  {
   "cell_type": "code",
   "execution_count": null,
   "metadata": {},
   "outputs": [],
   "source": [
    "# this problem can be solved using three different approaches:\n",
    "\n",
    "# Standard MBA (association rules or arules)\n",
    "# using a predictive model to estimate the demand of a particular product\n",
    "# product recommendation engine using collaborative filtering\n",
    "\n",
    "# let's do this"
   ]
  }
 ],
 "metadata": {
  "kernelspec": {
   "display_name": "Python 3",
   "language": "python",
   "name": "python3"
  },
  "language_info": {
   "codemirror_mode": {
    "name": "ipython",
    "version": 3
   },
   "file_extension": ".py",
   "mimetype": "text/x-python",
   "name": "python",
   "nbconvert_exporter": "python",
   "pygments_lexer": "ipython3",
   "version": "3.8.3"
  }
 },
 "nbformat": 4,
 "nbformat_minor": 4
}
